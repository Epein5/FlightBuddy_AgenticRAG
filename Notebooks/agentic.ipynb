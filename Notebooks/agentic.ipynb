{
 "cells": [
  {
   "cell_type": "code",
   "execution_count": 3,
   "metadata": {},
   "outputs": [],
   "source": [
    "# ignore warnings in the output\n",
    "import warnings\n",
    "warnings.filterwarnings(\"ignore\")"
   ]
  },
  {
   "cell_type": "code",
   "execution_count": 4,
   "metadata": {},
   "outputs": [],
   "source": [
    "import os\n",
    "from dotenv import load_dotenv\n",
    "load_dotenv()\n",
    "from langchain_google_genai import ChatGoogleGenerativeAI\n",
    "api_key = os.getenv(\"GEMINI_API_KEY\")\n",
    "llm = ChatGoogleGenerativeAI(model=\"gemini-pro\" , api_key=api_key)"
   ]
  },
  {
   "cell_type": "code",
   "execution_count": 5,
   "metadata": {},
   "outputs": [],
   "source": [
    "from langchain.vectorstores import Chroma\n",
    "from langchain_core.tools import tool"
   ]
  },
  {
   "cell_type": "code",
   "execution_count": 6,
   "metadata": {},
   "outputs": [
    {
     "name": "stderr",
     "output_type": "stream",
     "text": [
      "/tmp/ipykernel_17683/175634225.py:3: LangChainDeprecationWarning: The class `HuggingFaceBgeEmbeddings` was deprecated in LangChain 0.2.2 and will be removed in 1.0. An updated version of the class exists in the :class:`~langchain-huggingface package and should be used instead. To use it run `pip install -U :class:`~langchain-huggingface` and import as `from :class:`~langchain_huggingface import HuggingFaceEmbeddings``.\n",
      "  embedding_function = HuggingFaceBgeEmbeddings(\n"
     ]
    }
   ],
   "source": [
    "from langchain.embeddings import HuggingFaceBgeEmbeddings\n",
    "\n",
    "embedding_function = HuggingFaceBgeEmbeddings(\n",
    "    model_name = \"BAAI/bge-large-en-v1.5\",\n",
    "    model_kwargs = {'device':'cpu'},\n",
    "    encode_kwargs = {'normalize_embeddings':True}\n",
    ")"
   ]
  },
  {
   "cell_type": "code",
   "execution_count": 7,
   "metadata": {},
   "outputs": [],
   "source": [
    "ai_assistant_prompt = \"\"\"\n",
    "You are an AI assistant that responds strictly with a single word (use_rag, use_sql use_nth) based on the following rules:\n",
    "    * Respond with use_rag if the prompt concerns the rules, regulations,services provided by Tribhuvan International Airport or any thing_related to Airports.\n",
    "    * Respond with use_sql if the prompt relates to booking of flight tickets.\n",
    "    * Respond with use_nth if the prompt is unrelated to Tribhuvan International Airport or if it is a general-purpose query (e.g., greetings, casual conversation).\n",
    "Your response must always be a single word: (use_rag or use_sql or use_nth). No additional text or explanation is allowed.\n",
    "\"\"\"\n"
   ]
  },
  {
   "cell_type": "code",
   "execution_count": null,
   "metadata": {},
   "outputs": [],
   "source": [
    "rag_prompt = \"\"\"\n",
    "You are an advanced AI assistant capable of answering queries based on the provided context. Use the retrieved context to generate accurate and concise responses. Follow these rules:\n",
    "\n",
    "1. Only use the retrieved context to answer the query. Do not make assumptions or add information not found in the context.\n",
    "2. If the retrieved context does not contain enough information to answer the query, respond with the integer: \"0\" .\n",
    "\n",
    "### Retrieved Context:\n",
    "{retrieved_context}\n",
    "\n",
    "### Query:\n",
    "{query}\n",
    "\n",
    "### Response:\n",
    "\"\"\"\n"
   ]
  },
  {
   "cell_type": "code",
   "execution_count": 9,
   "metadata": {},
   "outputs": [],
   "source": [
    "def sql_agent_prompt(query):\n",
    "    query = query\n",
    "    sql_agent_prompt = \"\"\"\n",
    "        You are an intelligent SQL agent specializing in generating concise SQL queries to retrieve flight information from a database named 'Nepali_Airlines_Data.db'. Your role is to interpret the user's query and produce an accurate, functional SQL query. \n",
    "\n",
    "        ### Guidelines:\n",
    "        1. Assume the database table is named `Nepali_Airlines_Data` with the following columns:\n",
    "        - `Airline Name`: Name of the airline.\n",
    "        - `From`: Departure location.\n",
    "        - `To`: Arrival location.\n",
    "        - `EstimatedTakeOffTime`: Scheduled departure time.\n",
    "        - `EstimatedArrivalTime`: Scheduled arrival time.\n",
    "        - `Type`: Indicates if the flight is \"Domestic\" or \"International\".\n",
    "        - `DeathRate`: Death rate percentage.\n",
    "\n",
    "        2. Understand the user's requirements and generate an appropriate SQL query.\n",
    "        3. Return **only** the SQL query as output, enclosed in double quotes (`\"`).\n",
    "        4. Ensure the query is correct, concise, and formatted properly.\n",
    "\n",
    "        ### Example Query:\n",
    "        User Query: \"I want to book a ticket from Chitwan to Lumbini.\"\n",
    "        Response:\n",
    "        SELECT * FROM Nepali_Airlines_Data WHERE `From` = 'Chitwan' AND `To` = 'Lumbini'\n",
    "\n",
    "        Your Task:\n",
    "        1. Read the user query provided as input.\n",
    "        2. Interpret the query requirements and identify relevant filtering conditions.\n",
    "        3. Generate a valid SQL query to retrieve the required information.\n",
    "        4. The generated SQL query should include all the informations about the flight from the database.\n",
    "\n",
    "        Input Query: \"{query}\"\n",
    "\n",
    "        Output Query: \"\"\"\n",
    "            \n",
    "    return sql_agent_prompt.format(query=query)\n"
   ]
  },
  {
   "cell_type": "code",
   "execution_count": 38,
   "metadata": {},
   "outputs": [],
   "source": [
    "sql_recheck_prompt = \"\"\"\n",
    "You are an SQL Query Optimization Specialist. Your task is to carefully review and optimize SQL queries to enhance their accuracy, efficiency, and readability.\n",
    " You should focus on refining the query while keeping it concise and ensuring it performs optimally.\n",
    "\n",
    "### Task Guidelines:\n",
    "1. The database contains a table named `Nepali_Airlines_Data`, with the following columns:\n",
    "   - `Airline Name`: Name of the airline.\n",
    "   - `From`: Departure location.\n",
    "   - `To`: Arrival location.\n",
    "   - `EstimatedTakeOffTime`: Scheduled departure time.\n",
    "   - `EstimatedArrivalTime`: Scheduled arrival time.\n",
    "   - `Type`: Flight type, either \"Domestic\" or \"International\".\n",
    "   - `DeathRate`: Percentage of death rate for the airline.\n",
    "\n",
    "2. You will be provided with an **original SQL query** and an **input query**.\n",
    "3. Review the original query and the input query.\n",
    "4. Optimize the input query to improve its accuracy, efficiency, and readability.\n",
    "5. Provide only the  optimized SQL query as the output in a line enclosed in double quotes (`\"`).\n",
    "   Example Output Query: \"SELECT * FROM Nepali_Airlines_Data WHERE `From` = 'Chitwan' AND `To` = 'Lumbini'\"\n",
    "**Original SQL Query**: {sql_query}\n",
    "**Input Query**: {input_query}\n",
    "\n",
    "\"\"\"\n"
   ]
  },
  {
   "cell_type": "code",
   "execution_count": 39,
   "metadata": {},
   "outputs": [],
   "source": [
    "sql_prompt = \"\"\"\n",
    "### Prompt for the LLM:\n",
    "You are an intelligent assistant specializing in processing and analyzing flight data. Below is the retrieved flight information and the user query. Your task is to interpret the user's request, analyze the flight data, and provide a concise and accurate response.\n",
    "\n",
    "### Retrieved Flight Information:\n",
    "{flight_data}\n",
    "\n",
    "### User Query:\n",
    "{user_query}\n",
    "\n",
    "### Guidelines:\n",
    "1. Use the flight data provided to answer the query.\n",
    "2. If multiple flights match the query, list them all.\n",
    "3. If no flights match, clearly state so.\n",
    "4. Provide additional helpful details, such as estimated times, types (Domestic or International), or death rates if relevant to the query.\n",
    "5. Format your response in a user-friendly and readable way.\n",
    "6. Give answer like this:\n",
    "    * If there is a flight from Kathmandu to Pokhara, then the answer should be: \"There is a flight from Kathmandu to Pokhara.\" then give the rest of the details.\n",
    "    * If there are multiple flights from Kathmandu to Pokhara, then the answer should be: \"There are multiple flights from Kathmandu to Pokhara.\"then give the rest of the details.\n",
    "    * If there are no flights from Kathmandu to Pokhara, then the answer should be: \"There are no flights from Kathmandu to Pokhara.\"\n",
    "\"\"\""
   ]
  },
  {
   "cell_type": "code",
   "execution_count": 40,
   "metadata": {},
   "outputs": [],
   "source": [
    "def ai_assistant(ai_assistant_prompt,query, llm):\n",
    "    llm_query = ai_assistant_prompt + query\n",
    "    # print (llm.invoke(llm_query).content)\n",
    "    return llm.invoke(llm_query).content"
   ]
  },
  {
   "cell_type": "code",
   "execution_count": 41,
   "metadata": {},
   "outputs": [],
   "source": [
    "# ai_assistant(ai_assistant_prompt, \"What is Gratis Visa?\", llm)"
   ]
  },
  {
   "cell_type": "code",
   "execution_count": 75,
   "metadata": {},
   "outputs": [],
   "source": [
    "from langchain.retrievers.multi_query import MultiQueryRetriever\n",
    "def rag_assistant(rag_prompt , query, llm):\n",
    "    db = Chroma(\n",
    "    persist_directory=\"../output/Airpott.db\",\n",
    "    embedding_function=embedding_function\n",
    ")\n",
    "    retriever = db.as_retriever()\n",
    "    from langchain.retrievers.document_compressors import EmbeddingsFilter\n",
    "    from langchain.retrievers import ContextualCompressionRetriever\n",
    "\n",
    "\n",
    "# using similarity threshold of 0.6\n",
    "    embeddings_filter  = EmbeddingsFilter(embeddings=embedding_function, similarity_threshold=0.6)\n",
    "    compression_retriever = ContextualCompressionRetriever(base_compressor=embeddings_filter, base_retriever=retriever)\n",
    "    compressed_docs = compression_retriever.get_relevant_documents(query = query)\n",
    "    unique_answers = {i.metadata['answer'] for i in compressed_docs}\n",
    "    final_docs = \"\\n\".join(unique_answers) \n",
    "    final_rag_prompt = rag_prompt.format(retrieved_context = final_docs, query = query)\n",
    "    # print(\"aa\"+final_rag_prompt)\n",
    "    result = llm.invoke(final_rag_prompt).content\n",
    "    return result"
   ]
  },
  {
   "cell_type": "code",
   "execution_count": 70,
   "metadata": {},
   "outputs": [
    {
     "name": "stdout",
     "output_type": "stream",
     "text": [
      "aa\n",
      "You are an advanced AI assistant capable of answering queries based on the provided context. Use the retrieved context to generate accurate and concise responses. Follow these rules:\n",
      "\n",
      "1. Only use the retrieved context to answer the query. Do not make assumptions or add information not found in the context.\n",
      "2. If the retrieved context does not contain enough information to answer the query, respond with: \"I'm sorry, the context does not provide enough information to answer this question.\"\n",
      "\n",
      "### Retrieved Context:\n",
      "Can I carry liquid bottles in my hand baggage?Passengers can carry Liquids, Aerosols and Gels (LAGs) in containers with a capacity of not more than 100 ml. LAGs in a container larger than 100 ml will not be accepted at the security screening checkpoints, even if the container is partially filled.Can a passenger travelling on International flight carry valuable goods in their check-in luggage?No, passenger are not allowed to carry valuable goods (e.g. ornaments, gold, silver, money etc.) in their checked-in baggage/luggage. However, they can carry it in hand baggage with the prior approval from custom and declaration from passenger at airline checking counter during ticket checking.What items are not permitted to carry on board in my checked baggage (Hold Baggage)?Please do not carry the following items in checked baggage:•  Drugs, Narcotics and other intoxicating agents.•  Firearms, ammunition and explosives.•  Power bank.•   Dangerous goods.•   Counterfeit (Forgery) currency.• Radioactive materials.•    Compressed gas, acid and Mercury.•    Chemical and Biomaterials. •   Oily materials e.g. butter(Ghee), edible oil, honey, pickles.•  Meat items e.g. dry meat, pickles made from meat.•  Antiques and• Other items which are restricted to carry as per Government Rule.Can I travel with my own mobility equipment?Yes, you are free to use your own mobility equipment. For this, you need to confirm with your airline whether your device can be used in the aircraft cabin or must be stored in the hold.What are the rules for electrical items?You can carry laptops, tablets, kindles and mobiles in your hand baggage, but you will be asked to put them separately through the X-Ray machine while passing security channel.Are Chargers allowed in hand carry?Yes, wired chargers are allowed in hand luggage.Do I have to go through a walk through metal detectors (WTMD)?Everyone must go through a walk through metal detector except passenger with Pace Maker in their body due their health problem. They can request security person of their problem and can be checked manually and it is also advised the passenger with Pace Maker not to pass through WTMD.Can I get help at the airport if I am physically challenged person?Yes. But inform your airline/travel agent of your requirement at the time of booking and remind them at least 48 hours before you travel.Can a passenger buy Liquor and carry them on board?Passenger can buy Liquor from duty paid shops available at the airport and carry them, but according to the guidelines of the countries.Can a passenger travelling on International flight carry liquor?Passenger can purchase Liquor from duty paid shops at the airport. It should be sealed packed and should be STEB (Security Tamper Evident Bag) packaging as per ICAO regulations.How many litres of liquor are departing passengers allowed to carry when on board?It depends on the specific requirements of the countries you are travelling.Can I take my pet along on my trip?Each airline has their own guideline to carry pet. Passenger who wish to carry pet are advised to contact respective airline or ticket booking agent before date of flight with all possible questions related to carry pet along with their trip.\n",
      "Please do not carry the following items in checked baggage:•  Drugs, Narcotics and other intoxicating agents.•  Firearms, ammunition and explosives.•  Power bank.•   Dangerous goods.•   Counterfeit (Forgery) currency.• Radioactive materials.•    Compressed gas, acid and Mercury.•    Chemical and Biomaterials. •   Oily materials e.g. butter(Ghee), edible oil, honey, pickles.•  Meat items e.g. dry meat, pickles made from meat.•  Antiques and• Other items which are restricted to carry as per Government Rule.\n",
      "\n",
      "### Query:\n",
      "What are the things that i am not permitted to carry?\n",
      "\n",
      "### Response:\n",
      "\n"
     ]
    },
    {
     "data": {
      "text/plain": [
       "'You are not permitted to carry the following items in checked baggage:\\n\\n•  Drugs, Narcotics and other intoxicating agents.\\n•  Firearms, ammunition and explosives.\\n•  Power bank.\\n•   Dangerous goods.\\n•   Counterfeit (Forgery) currency.\\n• Radioactive materials.\\n•    Compressed gas, acid and Mercury.\\n•    Chemical and Biomaterials. \\n•   Oily materials e.g. butter(Ghee), edible oil, honey, pickles.\\n•  Meat items e.g. dry meat, pickles made from meat.\\n•  Antiques and\\n• Other items which are restricted to carry as per Government Rule.'"
      ]
     },
     "execution_count": 70,
     "metadata": {},
     "output_type": "execute_result"
    }
   ],
   "source": [
    "rag_assistant(rag_prompt, \"What are the things that i am not permitted to carry?\", llm)"
   ]
  },
  {
   "cell_type": "code",
   "execution_count": 71,
   "metadata": {},
   "outputs": [],
   "source": [
    "import sqlite3\n",
    "import pandas as pd\n",
    "def sql_items_retrieval(sql_agent_prompt, query, llm , sql_prompt, sql_recheck_prompt):\n",
    "    llm_query = sql_agent_prompt(query)\n",
    "    sql_query = llm.invoke(llm_query).content.replace('''\"''', \"\")\n",
    "    print(sql_query)\n",
    "    # sql_query = llm.invoke(sql_recheck_prompt.format(sql_query = sql_query, input_query = query)).content.replace('''\"''', \"\")\n",
    "    # print(\"Here resdfsdfsdg\" + sql_query)\n",
    "    conn = sqlite3.connect(\"../DB/Nepali_Airlines_Data.db\")\n",
    "    df = pd.read_sql_query(sql_query, conn)\n",
    "    final_sql_query = sql_prompt.format(flight_data = df.to_string(), user_query = query)\n",
    "    # print(final_sql_query)\n",
    "    return llm.invoke(final_sql_query).content"
   ]
  },
  {
   "cell_type": "code",
   "execution_count": 72,
   "metadata": {},
   "outputs": [
    {
     "name": "stdout",
     "output_type": "stream",
     "text": [
      "SELECT * FROM Nepali_Airlines_Data WHERE `From` = 'Kathmandu' AND `To` = 'New Delhi'\n"
     ]
    },
    {
     "data": {
      "text/plain": [
       "'There is a flight from Kathmandu to New Delhi operated by Nepal Airlines.\\n\\n**Flight Details:**\\n\\n* Airline Name: Nepal Airlines\\n* From: Kathmandu\\n* To: New Delhi\\n* Estimated Time of Take Off: 08:00\\n* Estimated Time of Arrival: 09:30\\n* Type: International\\n* Death Rate: 0.01%'"
      ]
     },
     "execution_count": 72,
     "metadata": {},
     "output_type": "execute_result"
    }
   ],
   "source": [
    "# sql_items_retrieval(sql_agent_prompt, \"GIve me the list of Airlines flying form Kathmandu with their full details \", llm , sql_prompt, sql_recheck_prompt)\n",
    "sql_items_retrieval(sql_agent_prompt, \"GIve me the list of Airlines flying form Kathmandu to New Delhi.\", llm , sql_prompt, sql_recheck_prompt)"
   ]
  },
  {
   "cell_type": "code",
   "execution_count": 73,
   "metadata": {},
   "outputs": [
    {
     "data": {
      "text/plain": [
       "\"**Gratis Visa**\\n\\nGratis Visa is a term used to describe a visa that is issued without any fees or charges. It is typically granted to individuals who are visiting or traveling for diplomatic, official, or humanitarian purposes.\\n\\n**Eligibility Criteria**\\n\\nThe eligibility criteria for a Gratis Visa vary depending on the country issuing the visa and the purpose of the travel. However, some common eligibility requirements may include:\\n\\n* **Diplomatic or official status:** Individuals holding diplomatic or official passports may be eligible for Gratis Visas.\\n* **Humanitarian missions:** Individuals engaged in humanitarian work, such as aid workers, medical professionals, or journalists, may be eligible for Gratis Visas.\\n* **Cultural or educational exchanges:** Participants in cultural or educational exchange programs may be eligible for Gratis Visas.\\n* **Reciprocal agreements:** Some countries have reciprocal agreements with other countries, allowing their citizens to obtain Gratis Visas.\\n\\n**Application Process**\\n\\nThe application process for a Gratis Visa typically involves:\\n\\n* Submitting an application form\\n* Providing proof of eligibility (e.g., diplomatic passport, humanitarian mission documentation)\\n* Submitting supporting documents (e.g., passport, itinerary)\\n* Attending an interview (in some cases)\\n\\n**Duration and Validity**\\n\\nThe duration and validity of a Gratis Visa vary depending on the purpose of the travel and the issuing country's regulations. It may be valid for a single entry or multiple entries, and the duration may range from a few days to several months or even years.\\n\\n**Benefits**\\n\\nObtaining a Gratis Visa can have several benefits:\\n\\n* **No fees:** Individuals do not have to pay any visa fees, reducing the cost of international travel.\\n* **Simplified application process:** The application process for Gratis Visas is often simpler and faster than for regular visas.\\n* **Enhanced status:** Gratis Visas may grant certain privileges or courtesies, such as expedited entry or access to restricted areas.\\n\\n**Note:**\\n\\nIt is important to note that not all countries offer Gratis Visas. Additionally, eligibility requirements and application procedures may vary, so it is always advisable to contact the relevant embassy or consulate for specific information.\""
      ]
     },
     "execution_count": 73,
     "metadata": {},
     "output_type": "execute_result"
    }
   ],
   "source": [
    "def normal_query(query, llm):\n",
    "    return llm.invoke(query).content\n",
    "normal_query(\"What is Gratis Visa?\", llm)"
   ]
  },
  {
   "cell_type": "code",
   "execution_count": null,
   "metadata": {},
   "outputs": [
    {
     "name": "stdout",
     "output_type": "stream",
     "text": [
      "You are not allowed to carry the following items in your checked baggage:\n",
      "•  Drugs, Narcotics and other intoxicating agents.\n",
      "•  Firearms, ammunition and explosives.\n",
      "•  Power bank.\n",
      "•   Dangerous goods.\n",
      "•   Counterfeit (Forgery) currency.\n",
      "• Radioactive materials.\n",
      "•    Compressed gas, acid and Mercury.\n",
      "•    Chemical and Biomaterials. \n",
      "•   Oily materials e.g. butter(Ghee), edible oil, honey, pickles.\n",
      "•  Meat items e.g. dry meat, pickles made from meat.\n",
      "•  Antiques and\n",
      "• Other items which are restricted to carry as per Government Rule.\n"
     ]
    }
   ],
   "source": [
    "user_query = \"I need to book a ticket form kathmandu. Give me the list of Airlines with their  flying from Kathmandu\"\n",
    "user_query = \"I want to die in a plane crash which airline should i choose and buy a ticket .\"\n",
    "user_query = \"WHat items am i not allowed to carry in my luggage?\"\n",
    "decision = ai_assistant(ai_assistant_prompt, user_query, llm)\n",
    "\n",
    "if decision == \"use_rag\":\n",
    "    rag_ans = rag_assistant(rag_prompt, user_query, llm)\n",
    "    if rag_ans == \"0\":\n",
    "        print(\"Directing to LLM as the retrieved context does not contain enough information to answer the query.\")\n",
    "        print(normal_query(user_query, llm))\n",
    "    else:\n",
    "        print(rag_ans)\n",
    "elif decision == \"use_sql\":\n",
    "    print(sql_items_retrieval(sql_agent_prompt, user_query, llm, sql_prompt, sql_recheck_prompt))\n",
    "else:\n",
    "    print(normal_query(user_query, llm))\n"
   ]
  },
  {
   "cell_type": "code",
   "execution_count": null,
   "metadata": {},
   "outputs": [],
   "source": []
  },
  {
   "cell_type": "code",
   "execution_count": null,
   "metadata": {},
   "outputs": [],
   "source": []
  }
 ],
 "metadata": {
  "kernelspec": {
   "display_name": "venv",
   "language": "python",
   "name": "python3"
  },
  "language_info": {
   "codemirror_mode": {
    "name": "ipython",
    "version": 3
   },
   "file_extension": ".py",
   "mimetype": "text/x-python",
   "name": "python",
   "nbconvert_exporter": "python",
   "pygments_lexer": "ipython3",
   "version": "3.12.3"
  }
 },
 "nbformat": 4,
 "nbformat_minor": 2
}
