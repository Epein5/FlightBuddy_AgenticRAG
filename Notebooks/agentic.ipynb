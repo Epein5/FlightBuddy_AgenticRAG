{
 "cells": [
  {
   "cell_type": "code",
   "execution_count": 1,
   "metadata": {},
   "outputs": [],
   "source": [
    "# ignore warnings in the output\n",
    "import warnings\n",
    "warnings.filterwarnings(\"ignore\")"
   ]
  },
  {
   "cell_type": "code",
   "execution_count": 2,
   "metadata": {},
   "outputs": [],
   "source": [
    "import os\n",
    "from dotenv import load_dotenv\n",
    "load_dotenv()\n",
    "from langchain_google_genai import ChatGoogleGenerativeAI\n",
    "api_key = os.getenv(\"GEMINI_API_KEY\")\n",
    "llm = ChatGoogleGenerativeAI(model=\"gemini-pro\" , api_key=api_key)"
   ]
  },
  {
   "cell_type": "code",
   "execution_count": 3,
   "metadata": {},
   "outputs": [],
   "source": [
    "from langchain.vectorstores import Chroma\n",
    "from langchain_core.tools import tool"
   ]
  },
  {
   "cell_type": "code",
   "execution_count": 4,
   "metadata": {},
   "outputs": [
    {
     "name": "stderr",
     "output_type": "stream",
     "text": [
      "/tmp/ipykernel_349902/175634225.py:3: LangChainDeprecationWarning: The class `HuggingFaceBgeEmbeddings` was deprecated in LangChain 0.2.2 and will be removed in 1.0. An updated version of the class exists in the :class:`~langchain-huggingface package and should be used instead. To use it run `pip install -U :class:`~langchain-huggingface` and import as `from :class:`~langchain_huggingface import HuggingFaceEmbeddings``.\n",
      "  embedding_function = HuggingFaceBgeEmbeddings(\n"
     ]
    }
   ],
   "source": [
    "from langchain.embeddings import HuggingFaceBgeEmbeddings\n",
    "\n",
    "embedding_function = HuggingFaceBgeEmbeddings(\n",
    "    model_name = \"BAAI/bge-large-en-v1.5\",\n",
    "    model_kwargs = {'device':'cpu'},\n",
    "    encode_kwargs = {'normalize_embeddings':True}\n",
    ")"
   ]
  },
  {
   "cell_type": "code",
   "execution_count": 5,
   "metadata": {},
   "outputs": [],
   "source": [
    "ai_assistant_prompt = \"\"\"\n",
    "You are an AI assistant that responds strictly with a single word (use_rag, use_sql use_nth) based on the following rules:\n",
    "    * Respond with use_rag if the prompt concerns the rules, regulations,services provided by Tribhuvan International Airport or any thing_related to Airports.\n",
    "    * Respond with use_sql if the prompt relates to booking of flight tickets.\n",
    "    * Respond with use_nth if the prompt is unrelated to Tribhuvan International Airport or if it is a general-purpose query (e.g., greetings, casual conversation).\n",
    "Your response must always be a single word: (use_rag or use_sql or use_nth). No additional text or explanation is allowed.\n",
    "\"\"\"\n"
   ]
  },
  {
   "cell_type": "code",
   "execution_count": 6,
   "metadata": {},
   "outputs": [],
   "source": [
    "rag_prompt = \"\"\"\n",
    "You are an advanced AI assistant capable of answering queries based on the provided context. Use the retrieved context to generate accurate and concise responses. Follow these rules:\n",
    "\n",
    "1. Only use the retrieved context to answer the query. Do not make assumptions or add information not found in the context.\n",
    "2. If the retrieved context does not contain enough information to answer the query, respond with: \"I'm sorry, the context does not provide enough information to answer this question.\"\n",
    "3. First summarize the retrieved context, then answer the query.\n",
    "\n",
    "### Retrieved Context:\n",
    "{retrieved_context}\n",
    "\n",
    "### Query:\n",
    "{query}\n",
    "\n",
    "### Response:\n",
    "\"\"\"\n"
   ]
  },
  {
   "cell_type": "code",
   "execution_count": 7,
   "metadata": {},
   "outputs": [],
   "source": [
    "sql_agent_prompt = \"\"\"\n",
    "You are an intelligent SQL and Pandas agent. Your task is to respond to user queries by providing Python Pandas code that retrieves the required information from a CSV file named 'Nepali_Airlines_Data.csv'. Follow these guidelines:\n",
    "\n",
    "1. Use Pandas to load the CSV file.\n",
    "2. Write code that filters the data based on the query's requirements.\n",
    "3. Return only the Pandas code, ensuring it's concise and functional.\n",
    "\n",
    "My CSV file has the following columns and is structured like this \n",
    "    Airline Name,From,To,Estimated Time of Take Off,Estimated Time of Arrival,Type,Death Rate (%)\n",
    "    Nepal Airlines,Kathmandu,New Delhi,08:00,09:30,International,0.01\n",
    "    Buddha Air,Kathmandu,Pokhara,06:30,07:15,Domestic,0.005\n",
    "    Yeti Airlines,Kathmandu,Lukla,07:00,07:30,Domestic,0.02\n",
    "\n",
    "\n",
    "### Example:\n",
    "Query: \"I want to book a ticket from Chitwan to Lumbini.\"\n",
    "Response:\n",
    "```python\n",
    "import pandas as pd\n",
    "\n",
    "# Load the CSV file\n",
    "df = pd.read_csv(\"Nepali_Airlines_Data.csv\")\n",
    "\n",
    "# Filter for flights from Chitwan to Lumbini\n",
    "result = df[(df['From'] == 'Chitwan') & (df['To'] == 'Lumbini')]\n",
    "print(result)\n",
    "\n",
    "Input Query: \"{query}\"\n",
    "\n",
    "Output Code:\n",
    "\"\"\""
   ]
  },
  {
   "cell_type": "code",
   "execution_count": 8,
   "metadata": {},
   "outputs": [],
   "source": [
    "def sql_agent_prompt(query):\n",
    "    query = query\n",
    "    sql_agent_prompt = \"\"\"\n",
    "        You are an intelligent SQL agent specializing in generating concise SQL queries to retrieve flight information from a database named 'Nepali_Airlines_Data.db'. Your role is to interpret the user's query and produce an accurate, functional SQL query. \n",
    "\n",
    "        ### Guidelines:\n",
    "        1. Assume the database table is named `Nepali_Airlines_Data` with the following columns:\n",
    "        - `Airline Name`: Name of the airline.\n",
    "        - `From`: Departure location.\n",
    "        - `To`: Arrival location.\n",
    "        - `EstimatedTakeOffTime`: Scheduled departure time.\n",
    "        - `EstimatedArrivalTime`: Scheduled arrival time.\n",
    "        - `Type`: Indicates if the flight is \"Domestic\" or \"International\".\n",
    "        - `DeathRate`: Death rate percentage.\n",
    "\n",
    "        2. Understand the user's requirements and generate an appropriate SQL query.\n",
    "        3. Return **only** the SQL query as output, enclosed in double quotes (`\"`).\n",
    "        4. Ensure the query is correct, concise, and formatted properly.\n",
    "\n",
    "        ### Example Query:\n",
    "        User Query: \"I want to book a ticket from Chitwan to Lumbini.\"\n",
    "        Response:\n",
    "        SELECT * FROM Nepali_Airlines_Data WHERE `From` = 'Chitwan' AND `To` = 'Lumbini'\n",
    "\n",
    "        Your Task:\n",
    "        1. Read the user query provided as input.\n",
    "        2. Interpret the query requirements and identify relevant filtering conditions.\n",
    "        3. Generate a valid SQL query to retrieve the required information.\n",
    "        4. The generated SQL query should include all the informations about the flight from the database.\n",
    "\n",
    "        Input Query: \"{query}\"\n",
    "\n",
    "        Output Query: \"\"\"\n",
    "            \n",
    "    return sql_agent_prompt.format(query=query)\n"
   ]
  },
  {
   "cell_type": "code",
   "execution_count": 9,
   "metadata": {},
   "outputs": [],
   "source": [
    "sql_prompt = \"\"\"\n",
    "### Prompt for the LLM:\n",
    "You are an intelligent assistant specializing in processing and analyzing flight data. Below is the retrieved flight information and the user query. Your task is to interpret the user's request, analyze the flight data, and provide a concise and accurate response.\n",
    "\n",
    "### Retrieved Flight Information:\n",
    "{flight_data}\n",
    "\n",
    "### User Query:\n",
    "{user_query}\n",
    "\n",
    "### Guidelines:\n",
    "1. Use the flight data provided to answer the query.\n",
    "2. If multiple flights match the query, list them all.\n",
    "3. If no flights match, clearly state so.\n",
    "4. Provide additional helpful details, such as estimated times, types (Domestic or International), or death rates if relevant to the query.\n",
    "5. Format your response in a user-friendly and readable way.\n",
    "6. Give answer like this:\n",
    "    * If there is a flight from Kathmandu to Pokhara, then the answer should be: \"There is a flight from Kathmandu to Pokhara.\" then give the rest of the details.\n",
    "    * If there are multiple flights from Kathmandu to Pokhara, then the answer should be: \"There are multiple flights from Kathmandu to Pokhara.\"then give the rest of the details.\n",
    "    * If there are no flights from Kathmandu to Pokhara, then the answer should be: \"There are no flights from Kathmandu to Pokhara.\"\n",
    "\"\"\""
   ]
  },
  {
   "cell_type": "code",
   "execution_count": 10,
   "metadata": {},
   "outputs": [],
   "source": [
    "def ai_assistant(ai_assistant_prompt,query, llm):\n",
    "    llm_query = ai_assistant_prompt + query\n",
    "    # print (llm.invoke(llm_query).content)\n",
    "    return llm.invoke(llm_query).content"
   ]
  },
  {
   "cell_type": "code",
   "execution_count": 11,
   "metadata": {},
   "outputs": [],
   "source": [
    "# ai_assistant(ai_assistant_prompt, \"What is Gratis Visa?\", llm)"
   ]
  },
  {
   "cell_type": "code",
   "execution_count": 12,
   "metadata": {},
   "outputs": [],
   "source": [
    "from langchain.retrievers.multi_query import MultiQueryRetriever\n",
    "def rag_assistant(rag_prompt , query, llm):\n",
    "    db = Chroma(\n",
    "    persist_directory=\"../output/Airpott.db\",\n",
    "    embedding_function=embedding_function\n",
    ")\n",
    "    retriever = db.as_retriever()\n",
    "    from langchain.retrievers.document_compressors import EmbeddingsFilter\n",
    "    from langchain.retrievers import ContextualCompressionRetriever\n",
    "\n",
    "\n",
    "# using similarity threshold of 0.6\n",
    "    embeddings_filter  = EmbeddingsFilter(embeddings=embedding_function, similarity_threshold=0.6)\n",
    "    compression_retriever = ContextualCompressionRetriever(base_compressor=embeddings_filter, base_retriever=retriever)\n",
    "    compressed_docs = compression_retriever.get_relevant_documents(query = query)\n",
    "    unique_answers = {i.metadata['answer'] for i in compressed_docs}\n",
    "    final_docs = \"\\n\".join(unique_answers) \n",
    "    final_rag_prompt = rag_prompt.format(retrieved_context = final_docs, query = query)\n",
    "    # print(final_rag_prompt)\n",
    "    print(llm.invoke(final_rag_prompt).content)\n",
    "    return llm.invoke(final_rag_prompt).content"
   ]
  },
  {
   "cell_type": "code",
   "execution_count": 13,
   "metadata": {},
   "outputs": [],
   "source": [
    "# rag_assistant(rag_prompt, \"What are the things that i am not permitted to carry?\", llm)"
   ]
  },
  {
   "cell_type": "code",
   "execution_count": 14,
   "metadata": {},
   "outputs": [],
   "source": [
    "import sqlite3\n",
    "import pandas as pd\n",
    "def sql_items_retrieval(sql_agent_prompt, query, llm , sql_prompt):\n",
    "    llm_query = sql_agent_prompt(query)\n",
    "    sql_query = llm.invoke(llm_query).content.replace('''\"''', \"\")\n",
    "    print(sql_query)\n",
    "    conn = sqlite3.connect(\"../DB/Nepali_Airlines_Data.db\")\n",
    "    df = pd.read_sql_query(sql_query, conn)\n",
    "    final_sql_query = sql_prompt.format(flight_data = df.to_string(), user_query = query)\n",
    "    # print(final_sql_query)\n",
    "    return llm.invoke(final_sql_query).content"
   ]
  },
  {
   "cell_type": "code",
   "execution_count": 15,
   "metadata": {},
   "outputs": [],
   "source": [
    "# sql_items_retrieval(sql_agent_prompt, \"GIve me the list of Airlines flying form Kathmandu with their full details \", llm , sql_prompt)\n",
    "# sql_items_retrieval(sql_agent_prompt, \"GIve me the list of Airlines flying form Kathmandu to New Dehli.\", llm , sql_prompt)"
   ]
  },
  {
   "cell_type": "code",
   "execution_count": 16,
   "metadata": {},
   "outputs": [
    {
     "data": {
      "text/plain": [
       "'Gratis Visa is not a real type of visa.'"
      ]
     },
     "execution_count": 16,
     "metadata": {},
     "output_type": "execute_result"
    }
   ],
   "source": [
    "def normal_query(query, llm):\n",
    "    return llm.invoke(query).content\n",
    "normal_query(\"What is Gratis Visa?\", llm)"
   ]
  },
  {
   "cell_type": "code",
   "execution_count": 19,
   "metadata": {},
   "outputs": [
    {
     "name": "stdout",
     "output_type": "stream",
     "text": [
      "SELECT * FROM Nepali_Airlines_Data WHERE `From` = 'Kathmandu' AND `To` = 'New Delhi'\n",
      "There is a flight from Kathmandu to New Delhi operated by Nepal Airlines. \n",
      "- Estimated Time of Take Off: 08:00\n",
      "- Estimated Time of Arrival: 09:30\n",
      "- Type: International\n",
      "- Death Rate: 0.01%\n"
     ]
    }
   ],
   "source": [
    "user_query = \"Give me the list of Airlines flying from Kathmandu to New Delhi\"\n",
    "decision = ai_assistant(ai_assistant_prompt, user_query, llm)\n",
    "\n",
    "if decision == \"use_rag\":\n",
    "    print(rag_assistant(rag_prompt, user_query, llm))\n",
    "elif decision == \"use_sql\":\n",
    "    print(sql_items_retrieval(sql_agent_prompt, user_query, llm, sql_prompt))\n",
    "else:\n",
    "    print(normal_query(user_query, llm))\n"
   ]
  },
  {
   "cell_type": "code",
   "execution_count": null,
   "metadata": {},
   "outputs": [],
   "source": []
  },
  {
   "cell_type": "code",
   "execution_count": null,
   "metadata": {},
   "outputs": [],
   "source": []
  }
 ],
 "metadata": {
  "kernelspec": {
   "display_name": "venv",
   "language": "python",
   "name": "python3"
  },
  "language_info": {
   "codemirror_mode": {
    "name": "ipython",
    "version": 3
   },
   "file_extension": ".py",
   "mimetype": "text/x-python",
   "name": "python",
   "nbconvert_exporter": "python",
   "pygments_lexer": "ipython3",
   "version": "3.12.3"
  }
 },
 "nbformat": 4,
 "nbformat_minor": 2
}
